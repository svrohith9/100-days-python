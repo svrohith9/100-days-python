{
  "nbformat": 4,
  "nbformat_minor": 0,
  "metadata": {
    "kernelspec": {
      "name": "python3",
      "display_name": "Python 3.9.5 64-bit (windows store)"
    },
    "language_info": {
      "codemirror_mode": {
        "name": "ipython",
        "version": 3
      },
      "file_extension": ".py",
      "mimetype": "text/x-python",
      "name": "python",
      "nbconvert_exporter": "python",
      "pygments_lexer": "ipython3",
      "version": "3.9.5"
    },
    "colab": {
      "name": "Programming Languages (start).ipynb",
      "provenance": []
    },
    "interpreter": {
      "hash": "72e071d569c083a36980cf7e3e7e2c7c88339d92701d7ce5d68be79786d1cd6c"
    }
  },
  "cells": [
    {
      "cell_type": "markdown",
      "metadata": {
        "id": "MAAKxOwsGxuj",
        "colab_type": "text"
      },
      "source": [
        "## Get the Data\n",
        "\n",
        "Either use the provided .csv file or (optionally) get fresh (the freshest?) data from running an SQL query on StackExchange: \n",
        "\n",
        "Follow this link to run the query from [StackExchange](https://data.stackexchange.com/stackoverflow/query/675441/popular-programming-languages-per-over-time-eversql-com) to get your own .csv file\n",
        "\n",
        "<code>\n",
        "select dateadd(month, datediff(month, 0, q.CreationDate), 0) m, TagName, count(*)\n",
        "from PostTags pt\n",
        "join Posts q on q.Id=pt.PostId\n",
        "join Tags t on t.Id=pt.TagId\n",
        "where TagName in ('java','c','c++','python','c#','javascript','assembly','php','perl','ruby','visual basic','swift','r','object-c','scratch','go','swift','delphi')\n",
        "and q.CreationDate < dateadd(month, datediff(month, 0, getdate()), 0)\n",
        "group by dateadd(month, datediff(month, 0, q.CreationDate), 0), TagName\n",
        "order by dateadd(month, datediff(month, 0, q.CreationDate), 0)\n",
        "</code>"
      ]
    },
    {
      "cell_type": "markdown",
      "metadata": {
        "id": "u5KcSXt1Gxuk",
        "colab_type": "text"
      },
      "source": [
        "## Import Statements"
      ]
    },
    {
      "cell_type": "code",
      "metadata": {
        "id": "Ru4Wq-pXGxuk",
        "colab_type": "code",
        "colab": {}
      },
      "source": [
        "import pandas as pd"
      ],
      "execution_count": 1,
      "outputs": []
    },
    {
      "cell_type": "markdown",
      "metadata": {
        "id": "xEP6beuEGxun",
        "colab_type": "text"
      },
      "source": [
        "## Data Exploration"
      ]
    },
    {
      "cell_type": "markdown",
      "metadata": {
        "id": "w3Q75B4CGxun",
        "colab_type": "text"
      },
      "source": [
        "**Challenge**: Read the .csv file and store it in a Pandas dataframe"
      ]
    },
    {
      "cell_type": "code",
      "metadata": {
        "id": "Bm7hQtEGIiri",
        "colab_type": "code",
        "colab": {}
      },
      "source": [
        "data=pd.read_csv('QueryResults.csv',names=[\"Date\",\"Tag\",\"Posts\"])"
      ],
      "execution_count": 2,
      "outputs": []
    },
    {
      "cell_type": "markdown",
      "metadata": {
        "id": "x2WnDM75Gxup",
        "colab_type": "text"
      },
      "source": [
        "**Challenge**: Examine the first 5 rows and the last 5 rows of the of the dataframe"
      ]
    },
    {
      "cell_type": "code",
      "metadata": {
        "id": "50oqpUxVIiJf",
        "colab_type": "code",
        "colab": {}
      },
      "source": [
        "data.head()\n",
        "data.tail()"
      ],
      "execution_count": 3,
      "outputs": [
        {
          "output_type": "execute_result",
          "data": {
            "text/plain": [
              "                     Date    Tag   Posts\n",
              "1987  2020-07-01 00:00:00      r  5694.0\n",
              "1988  2020-07-01 00:00:00     go   743.0\n",
              "1989  2020-07-01 00:00:00   ruby   775.0\n",
              "1990  2020-07-01 00:00:00   perl   182.0\n",
              "1991  2020-07-01 00:00:00  swift  3607.0"
            ],
            "text/html": "<div>\n<style scoped>\n    .dataframe tbody tr th:only-of-type {\n        vertical-align: middle;\n    }\n\n    .dataframe tbody tr th {\n        vertical-align: top;\n    }\n\n    .dataframe thead th {\n        text-align: right;\n    }\n</style>\n<table border=\"1\" class=\"dataframe\">\n  <thead>\n    <tr style=\"text-align: right;\">\n      <th></th>\n      <th>Date</th>\n      <th>Tag</th>\n      <th>Posts</th>\n    </tr>\n  </thead>\n  <tbody>\n    <tr>\n      <th>1987</th>\n      <td>2020-07-01 00:00:00</td>\n      <td>r</td>\n      <td>5694.0</td>\n    </tr>\n    <tr>\n      <th>1988</th>\n      <td>2020-07-01 00:00:00</td>\n      <td>go</td>\n      <td>743.0</td>\n    </tr>\n    <tr>\n      <th>1989</th>\n      <td>2020-07-01 00:00:00</td>\n      <td>ruby</td>\n      <td>775.0</td>\n    </tr>\n    <tr>\n      <th>1990</th>\n      <td>2020-07-01 00:00:00</td>\n      <td>perl</td>\n      <td>182.0</td>\n    </tr>\n    <tr>\n      <th>1991</th>\n      <td>2020-07-01 00:00:00</td>\n      <td>swift</td>\n      <td>3607.0</td>\n    </tr>\n  </tbody>\n</table>\n</div>"
          },
          "metadata": {},
          "execution_count": 3
        }
      ]
    },
    {
      "cell_type": "markdown",
      "metadata": {
        "id": "0o9hvVgyGxus",
        "colab_type": "text"
      },
      "source": [
        "**Challenge:** Check how many rows and how many columns there are. \n",
        "What are the dimensions of the dataframe?"
      ]
    },
    {
      "cell_type": "code",
      "execution_count": 4,
      "metadata": {},
      "outputs": [
        {
          "output_type": "execute_result",
          "data": {
            "text/plain": [
              "(1992, 3)"
            ]
          },
          "metadata": {},
          "execution_count": 4
        }
      ],
      "source": [
        "data.shape"
      ]
    },
    {
      "cell_type": "markdown",
      "metadata": {
        "id": "ybZkNLmxGxuu",
        "colab_type": "text"
      },
      "source": [
        "**Challenge**: Count the number of entries in each column of the dataframe"
      ]
    },
    {
      "cell_type": "code",
      "metadata": {
        "id": "Sc1dmmOoIg2g",
        "colab_type": "code",
        "colab": {}
      },
      "source": [
        "data.count()"
      ],
      "execution_count": 5,
      "outputs": [
        {
          "output_type": "execute_result",
          "data": {
            "text/plain": [
              "Date     1992\n",
              "Tag      1992\n",
              "Posts    1991\n",
              "dtype: int64"
            ]
          },
          "metadata": {},
          "execution_count": 5
        }
      ]
    },
    {
      "cell_type": "markdown",
      "metadata": {
        "id": "hlnfFsscGxuw",
        "colab_type": "text"
      },
      "source": [
        "**Challenge**: Calculate the total number of post per language.\n",
        "Which Programming language has had the highest total number of posts of all time?"
      ]
    },
    {
      "cell_type": "code",
      "metadata": {
        "id": "9-NYFONcIc1X",
        "colab_type": "code",
        "colab": {}
      },
      "source": [
        "data.groupby('Tag').sum()"
      ],
      "execution_count": 6,
      "outputs": [
        {
          "output_type": "execute_result",
          "data": {
            "text/plain": [
              "                Posts\n",
              "Tag                  \n",
              "TagName           0.0\n",
              "assembly      34852.0\n",
              "c            336042.0\n",
              "c#          1423530.0\n",
              "c++          684210.0\n",
              "delphi        46212.0\n",
              "go            47499.0\n",
              "java        1696403.0\n",
              "javascript  2056510.0\n",
              "perl          65286.0\n",
              "php         1361988.0\n",
              "python      1496210.0\n",
              "r            356799.0\n",
              "ruby         214582.0\n",
              "swift        273055.0"
            ],
            "text/html": "<div>\n<style scoped>\n    .dataframe tbody tr th:only-of-type {\n        vertical-align: middle;\n    }\n\n    .dataframe tbody tr th {\n        vertical-align: top;\n    }\n\n    .dataframe thead th {\n        text-align: right;\n    }\n</style>\n<table border=\"1\" class=\"dataframe\">\n  <thead>\n    <tr style=\"text-align: right;\">\n      <th></th>\n      <th>Posts</th>\n    </tr>\n    <tr>\n      <th>Tag</th>\n      <th></th>\n    </tr>\n  </thead>\n  <tbody>\n    <tr>\n      <th>TagName</th>\n      <td>0.0</td>\n    </tr>\n    <tr>\n      <th>assembly</th>\n      <td>34852.0</td>\n    </tr>\n    <tr>\n      <th>c</th>\n      <td>336042.0</td>\n    </tr>\n    <tr>\n      <th>c#</th>\n      <td>1423530.0</td>\n    </tr>\n    <tr>\n      <th>c++</th>\n      <td>684210.0</td>\n    </tr>\n    <tr>\n      <th>delphi</th>\n      <td>46212.0</td>\n    </tr>\n    <tr>\n      <th>go</th>\n      <td>47499.0</td>\n    </tr>\n    <tr>\n      <th>java</th>\n      <td>1696403.0</td>\n    </tr>\n    <tr>\n      <th>javascript</th>\n      <td>2056510.0</td>\n    </tr>\n    <tr>\n      <th>perl</th>\n      <td>65286.0</td>\n    </tr>\n    <tr>\n      <th>php</th>\n      <td>1361988.0</td>\n    </tr>\n    <tr>\n      <th>python</th>\n      <td>1496210.0</td>\n    </tr>\n    <tr>\n      <th>r</th>\n      <td>356799.0</td>\n    </tr>\n    <tr>\n      <th>ruby</th>\n      <td>214582.0</td>\n    </tr>\n    <tr>\n      <th>swift</th>\n      <td>273055.0</td>\n    </tr>\n  </tbody>\n</table>\n</div>"
          },
          "metadata": {},
          "execution_count": 6
        }
      ]
    },
    {
      "cell_type": "markdown",
      "metadata": {
        "id": "iVCesB49Gxuz",
        "colab_type": "text"
      },
      "source": [
        "Some languages are older (e.g., C) and other languages are newer (e.g., Swift). The dataset starts in September 2008.\n",
        "\n",
        "**Challenge**: How many months of data exist per language? Which language had the fewest months with an entry? \n"
      ]
    },
    {
      "cell_type": "code",
      "execution_count": 7,
      "metadata": {},
      "outputs": [
        {
          "output_type": "execute_result",
          "data": {
            "text/plain": [
              "            Date  Posts\n",
              "Tag                    \n",
              "TagName        1      0\n",
              "assembly     144    144\n",
              "c            144    144\n",
              "c#           145    145\n",
              "c++          144    144\n",
              "delphi       144    144\n",
              "go           129    129\n",
              "java         144    144\n",
              "javascript   144    144\n",
              "perl         144    144\n",
              "php          144    144\n",
              "python       144    144\n",
              "r            142    142\n",
              "ruby         144    144\n",
              "swift        135    135"
            ],
            "text/html": "<div>\n<style scoped>\n    .dataframe tbody tr th:only-of-type {\n        vertical-align: middle;\n    }\n\n    .dataframe tbody tr th {\n        vertical-align: top;\n    }\n\n    .dataframe thead th {\n        text-align: right;\n    }\n</style>\n<table border=\"1\" class=\"dataframe\">\n  <thead>\n    <tr style=\"text-align: right;\">\n      <th></th>\n      <th>Date</th>\n      <th>Posts</th>\n    </tr>\n    <tr>\n      <th>Tag</th>\n      <th></th>\n      <th></th>\n    </tr>\n  </thead>\n  <tbody>\n    <tr>\n      <th>TagName</th>\n      <td>1</td>\n      <td>0</td>\n    </tr>\n    <tr>\n      <th>assembly</th>\n      <td>144</td>\n      <td>144</td>\n    </tr>\n    <tr>\n      <th>c</th>\n      <td>144</td>\n      <td>144</td>\n    </tr>\n    <tr>\n      <th>c#</th>\n      <td>145</td>\n      <td>145</td>\n    </tr>\n    <tr>\n      <th>c++</th>\n      <td>144</td>\n      <td>144</td>\n    </tr>\n    <tr>\n      <th>delphi</th>\n      <td>144</td>\n      <td>144</td>\n    </tr>\n    <tr>\n      <th>go</th>\n      <td>129</td>\n      <td>129</td>\n    </tr>\n    <tr>\n      <th>java</th>\n      <td>144</td>\n      <td>144</td>\n    </tr>\n    <tr>\n      <th>javascript</th>\n      <td>144</td>\n      <td>144</td>\n    </tr>\n    <tr>\n      <th>perl</th>\n      <td>144</td>\n      <td>144</td>\n    </tr>\n    <tr>\n      <th>php</th>\n      <td>144</td>\n      <td>144</td>\n    </tr>\n    <tr>\n      <th>python</th>\n      <td>144</td>\n      <td>144</td>\n    </tr>\n    <tr>\n      <th>r</th>\n      <td>142</td>\n      <td>142</td>\n    </tr>\n    <tr>\n      <th>ruby</th>\n      <td>144</td>\n      <td>144</td>\n    </tr>\n    <tr>\n      <th>swift</th>\n      <td>135</td>\n      <td>135</td>\n    </tr>\n  </tbody>\n</table>\n</div>"
          },
          "metadata": {},
          "execution_count": 7
        }
      ],
      "source": [
        "data.groupby('Tag').count()"
      ]
    },
    {
      "cell_type": "markdown",
      "metadata": {
        "id": "arguGp3ZGxu1",
        "colab_type": "text"
      },
      "source": [
        "## Data Cleaning\n",
        "\n",
        "Let's fix the date format to make it more readable. We need to use Pandas to change format from a string of \"2008-07-01 00:00:00\" to a datetime object with the format of \"2008-07-01\""
      ]
    },
    {
      "cell_type": "code",
      "metadata": {
        "id": "5nh5a4UtGxu1",
        "colab_type": "code",
        "colab": {}
      },
      "source": [
        "data.Date=pd.to_datetime(data.Date[1])\n",
        "data.head()"
      ],
      "execution_count": 37,
      "outputs": [
        {
          "output_type": "execute_result",
          "data": {
            "text/plain": [
              "        Date         Tag  Posts\n",
              "0 2008-07-01     TagName    NaN\n",
              "1 2008-07-01          c#    3.0\n",
              "2 2008-07-01    assembly    8.0\n",
              "3 2008-07-01  javascript  162.0\n",
              "4 2008-07-01           c   85.0"
            ],
            "text/html": "<div>\n<style scoped>\n    .dataframe tbody tr th:only-of-type {\n        vertical-align: middle;\n    }\n\n    .dataframe tbody tr th {\n        vertical-align: top;\n    }\n\n    .dataframe thead th {\n        text-align: right;\n    }\n</style>\n<table border=\"1\" class=\"dataframe\">\n  <thead>\n    <tr style=\"text-align: right;\">\n      <th></th>\n      <th>Date</th>\n      <th>Tag</th>\n      <th>Posts</th>\n    </tr>\n  </thead>\n  <tbody>\n    <tr>\n      <th>0</th>\n      <td>2008-07-01</td>\n      <td>TagName</td>\n      <td>NaN</td>\n    </tr>\n    <tr>\n      <th>1</th>\n      <td>2008-07-01</td>\n      <td>c#</td>\n      <td>3.0</td>\n    </tr>\n    <tr>\n      <th>2</th>\n      <td>2008-07-01</td>\n      <td>assembly</td>\n      <td>8.0</td>\n    </tr>\n    <tr>\n      <th>3</th>\n      <td>2008-07-01</td>\n      <td>javascript</td>\n      <td>162.0</td>\n    </tr>\n    <tr>\n      <th>4</th>\n      <td>2008-07-01</td>\n      <td>c</td>\n      <td>85.0</td>\n    </tr>\n  </tbody>\n</table>\n</div>"
          },
          "metadata": {},
          "execution_count": 37
        }
      ]
    },
    {
      "cell_type": "markdown",
      "metadata": {
        "id": "rWAV6tuzGxu6",
        "colab_type": "text"
      },
      "source": [
        "## Data Manipulation\n",
        "\n"
      ]
    },
    {
      "cell_type": "code",
      "metadata": {
        "id": "aHhbulJaGxu7",
        "colab_type": "code",
        "colab": {}
      },
      "source": [],
      "execution_count": 5,
      "outputs": []
    },
    {
      "cell_type": "markdown",
      "metadata": {
        "id": "RWKcVIyFKwHM",
        "colab_type": "text"
      },
      "source": [
        "**Challenge**: What are the dimensions of our new dataframe? How many rows and columns does it have? Print out the column names and print out the first 5 rows of the dataframe."
      ]
    },
    {
      "cell_type": "code",
      "metadata": {
        "id": "016H-Fy4Gxu3",
        "colab_type": "code",
        "colab": {}
      },
      "source": [
        "test_df = pd.DataFrame({'Age': ['Young', 'Young', 'Young', 'Young', 'Old', 'Old', 'Old', 'Old'],\n",
        "                        'Actor': ['Jack', 'Arnold', 'Keanu', 'Sylvester', 'Jack', 'Arnold', 'Keanu', 'Sylvester'],\n",
        "                        'Power': [100, 80, 25, 50, 99, 75, 5, 30]})\n",
        "test_df"
      ],
      "execution_count": 38,
      "outputs": [
        {
          "output_type": "execute_result",
          "data": {
            "text/plain": [
              "     Age      Actor  Power\n",
              "0  Young       Jack    100\n",
              "1  Young     Arnold     80\n",
              "2  Young      Keanu     25\n",
              "3  Young  Sylvester     50\n",
              "4    Old       Jack     99\n",
              "5    Old     Arnold     75\n",
              "6    Old      Keanu      5\n",
              "7    Old  Sylvester     30"
            ],
            "text/html": "<div>\n<style scoped>\n    .dataframe tbody tr th:only-of-type {\n        vertical-align: middle;\n    }\n\n    .dataframe tbody tr th {\n        vertical-align: top;\n    }\n\n    .dataframe thead th {\n        text-align: right;\n    }\n</style>\n<table border=\"1\" class=\"dataframe\">\n  <thead>\n    <tr style=\"text-align: right;\">\n      <th></th>\n      <th>Age</th>\n      <th>Actor</th>\n      <th>Power</th>\n    </tr>\n  </thead>\n  <tbody>\n    <tr>\n      <th>0</th>\n      <td>Young</td>\n      <td>Jack</td>\n      <td>100</td>\n    </tr>\n    <tr>\n      <th>1</th>\n      <td>Young</td>\n      <td>Arnold</td>\n      <td>80</td>\n    </tr>\n    <tr>\n      <th>2</th>\n      <td>Young</td>\n      <td>Keanu</td>\n      <td>25</td>\n    </tr>\n    <tr>\n      <th>3</th>\n      <td>Young</td>\n      <td>Sylvester</td>\n      <td>50</td>\n    </tr>\n    <tr>\n      <th>4</th>\n      <td>Old</td>\n      <td>Jack</td>\n      <td>99</td>\n    </tr>\n    <tr>\n      <th>5</th>\n      <td>Old</td>\n      <td>Arnold</td>\n      <td>75</td>\n    </tr>\n    <tr>\n      <th>6</th>\n      <td>Old</td>\n      <td>Keanu</td>\n      <td>5</td>\n    </tr>\n    <tr>\n      <th>7</th>\n      <td>Old</td>\n      <td>Sylvester</td>\n      <td>30</td>\n    </tr>\n  </tbody>\n</table>\n</div>"
          },
          "metadata": {},
          "execution_count": 38
        }
      ]
    },
    {
      "cell_type": "code",
      "metadata": {
        "id": "4EiSd7pdGxu5",
        "colab_type": "code",
        "colab": {}
      },
      "source": [
        "pivot_df=test_df.pivot(index='Age',columns='Actor',values='Power')\n",
        "pivot_df"
      ],
      "execution_count": 39,
      "outputs": [
        {
          "output_type": "execute_result",
          "data": {
            "text/plain": [
              "Actor  Arnold  Jack  Keanu  Sylvester\n",
              "Age                                  \n",
              "Old        75    99      5         30\n",
              "Young      80   100     25         50"
            ],
            "text/html": "<div>\n<style scoped>\n    .dataframe tbody tr th:only-of-type {\n        vertical-align: middle;\n    }\n\n    .dataframe tbody tr th {\n        vertical-align: top;\n    }\n\n    .dataframe thead th {\n        text-align: right;\n    }\n</style>\n<table border=\"1\" class=\"dataframe\">\n  <thead>\n    <tr style=\"text-align: right;\">\n      <th>Actor</th>\n      <th>Arnold</th>\n      <th>Jack</th>\n      <th>Keanu</th>\n      <th>Sylvester</th>\n    </tr>\n    <tr>\n      <th>Age</th>\n      <th></th>\n      <th></th>\n      <th></th>\n      <th></th>\n    </tr>\n  </thead>\n  <tbody>\n    <tr>\n      <th>Old</th>\n      <td>75</td>\n      <td>99</td>\n      <td>5</td>\n      <td>30</td>\n    </tr>\n    <tr>\n      <th>Young</th>\n      <td>80</td>\n      <td>100</td>\n      <td>25</td>\n      <td>50</td>\n    </tr>\n  </tbody>\n</table>\n</div>"
          },
          "metadata": {},
          "execution_count": 39
        }
      ]
    },
    {
      "cell_type": "markdown",
      "metadata": {
        "id": "8xU7l_f4GxvK",
        "colab_type": "text"
      },
      "source": [
        "## Data Visualisaton with with Matplotlib\n"
      ]
    },
    {
      "cell_type": "markdown",
      "metadata": {
        "id": "njnNXTlhGxvK",
        "colab_type": "text"
      },
      "source": [
        "**Challenge**: Use the [matplotlib documentation](https://matplotlib.org/3.2.1/api/_as_gen/matplotlib.pyplot.plot.html#matplotlib.pyplot.plot) to plot a single programming language (e.g., java) on a chart."
      ]
    },
    {
      "cell_type": "code",
      "metadata": {
        "id": "S0OS8T8iGxvL",
        "colab_type": "code",
        "colab": {}
      },
      "source": [
        "import matplotlib.pyplot as plt"
      ],
      "execution_count": 42,
      "outputs": []
    },
    {
      "cell_type": "code",
      "metadata": {
        "id": "_Qzzg6b_GxvO",
        "colab_type": "code",
        "colab": {}
      },
      "source": [],
      "execution_count": 5,
      "outputs": []
    },
    {
      "cell_type": "markdown",
      "metadata": {
        "id": "Sm2DL5tZGxvQ",
        "colab_type": "text"
      },
      "source": [
        "**Challenge**: Show two line (e.g. for Java and Python) on the same chart."
      ]
    },
    {
      "cell_type": "code",
      "metadata": {
        "id": "T-0vClQSGxvQ",
        "colab_type": "code",
        "colab": {}
      },
      "source": [],
      "execution_count": 5,
      "outputs": []
    },
    {
      "cell_type": "markdown",
      "metadata": {
        "id": "3jSjfPy7GxvY",
        "colab_type": "text"
      },
      "source": [
        "# Smoothing out Time Series Data\n",
        "\n",
        "Time series data can be quite noisy, with a lot of up and down spikes. To better see a trend we can plot an average of, say 6 or 12 observations. This is called the rolling mean. We calculate the average in a window of time and move it forward by one overservation. Pandas has two handy methods already built in to work this out: [rolling()](https://pandas.pydata.org/pandas-docs/stable/reference/api/pandas.DataFrame.rolling.html) and [mean()](https://pandas.pydata.org/pandas-docs/stable/reference/api/pandas.core.window.rolling.Rolling.mean.html). "
      ]
    },
    {
      "cell_type": "code",
      "metadata": {
        "id": "s3WYd3OgGxvc",
        "colab_type": "code",
        "colab": {}
      },
      "source": [],
      "execution_count": null,
      "outputs": []
    },
    {
      "cell_type": "code",
      "metadata": {
        "id": "WMJOX8Y2Gxvd",
        "colab_type": "code",
        "colab": {}
      },
      "source": [],
      "execution_count": null,
      "outputs": []
    },
    {
      "cell_type": "code",
      "metadata": {
        "id": "fAvvarA7Gxvf",
        "colab_type": "code",
        "colab": {}
      },
      "source": [],
      "execution_count": null,
      "outputs": []
    },
    {
      "cell_type": "code",
      "metadata": {
        "id": "Gm0Ww0S4Gxvg",
        "colab_type": "code",
        "colab": {}
      },
      "source": [],
      "execution_count": null,
      "outputs": []
    }
  ]
}